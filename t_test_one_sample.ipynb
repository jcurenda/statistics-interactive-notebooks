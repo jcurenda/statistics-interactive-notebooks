{
 "cells": [
  {
   "cell_type": "code",
   "execution_count": 1,
   "id": "085a39d0-a63e-430e-8e2f-bef8623011a9",
   "metadata": {
    "tags": []
   },
   "outputs": [
    {
     "data": {
      "application/vnd.jupyter.widget-view+json": {
       "model_id": "61bd2e7d359b46e5b874cfde682170fb",
       "version_major": 2,
       "version_minor": 0
      },
      "text/plain": [
       "interactive(children=(FloatSlider(value=16.0, description='Sample Mean:', max=20.0, min=10.0), FloatSlider(val…"
      ]
     },
     "execution_count": 1,
     "metadata": {},
     "output_type": "execute_result"
    }
   ],
   "source": [
    "import numpy as np\n",
    "import matplotlib.pyplot as plt\n",
    "import scipy.stats as stats\n",
    "import ipywidgets as widgets\n",
    "from IPython.display import display\n",
    "\n",
    "# Function to update the plot\n",
    "def update_plot(sample_mean, sample_std, n):\n",
    "    # Fixed population mean\n",
    "    population_mean = 15\n",
    "    alpha = 0.05\n",
    "\n",
    "    # Calculate t-statistic and p-value\n",
    "    t_statistic = (sample_mean - population_mean) / (sample_std / np.sqrt(n))\n",
    "    p_value = stats.t.sf(np.abs(t_statistic), n-1) * 2  # two-tailed p-value\n",
    "\n",
    "    # Create the plot\n",
    "    plt.figure(figsize=(10, 6))\n",
    "    x = np.linspace(-4, 4, 100)\n",
    "    y = stats.t.pdf(x, n-1)\n",
    "    plt.plot(x, y, label=\"t-distribution PDF\")\n",
    "\n",
    "    # Highlight the critical region\n",
    "    crit_t = stats.t.ppf(1 - alpha/2, n-1)\n",
    "    x_crit1 = np.linspace(-crit_t, crit_t, 100)\n",
    "    y_crit1 = stats.t.pdf(x_crit1, n-1)\n",
    "    plt.fill_between(x_crit1, y_crit1, color='gray', alpha=0.5)\n",
    "\n",
    "    # Plot the t-statistic\n",
    "    plt.axvline(x=t_statistic, color='red', linestyle='--', label=f'T-statistic = {t_statistic:.2f}\\nP-value = {p_value:.4f}')\n",
    "    plt.axvline(x=-t_statistic, color='red', linestyle='--')\n",
    "\n",
    "    plt.legend()\n",
    "    plt.xlabel('t-value')\n",
    "    plt.ylabel('Probability Density')\n",
    "    plt.title('One-Sample T-Test')\n",
    "    plt.show()\n",
    "\n",
    "    # Print decision\n",
    "    if p_value < alpha:\n",
    "        print(\"Reject the null hypothesis.\")\n",
    "    else:\n",
    "        print(\"Fail to reject the null hypothesis.\")\n",
    "\n",
    "# Interactive widgets\n",
    "sample_mean_slider = widgets.FloatSlider(value=16, min=10, max=20, step=0.1, description='Sample Mean:')\n",
    "sample_std_slider = widgets.FloatSlider(value=5, min=1, max=10, step=0.1, description='Sample Std Dev:')\n",
    "sample_size_slider = widgets.IntSlider(value=30, min=5, max=100, step=1, description='Sample Size:')\n",
    "\n",
    "# Display the interactive plot\n",
    "widgets.interactive(update_plot, sample_mean=sample_mean_slider, sample_std=sample_std_slider, n=sample_size_slider)\n"
   ]
  },
  {
   "cell_type": "code",
   "execution_count": null,
   "id": "470a9c16-3ed3-4cb5-bc4f-741ee9d4fd80",
   "metadata": {},
   "outputs": [],
   "source": []
  }
 ],
 "metadata": {
  "kernelspec": {
   "display_name": "Python 3 (ipykernel)",
   "language": "python",
   "name": "python3"
  },
  "language_info": {
   "codemirror_mode": {
    "name": "ipython",
    "version": 3
   },
   "file_extension": ".py",
   "mimetype": "text/x-python",
   "name": "python",
   "nbconvert_exporter": "python",
   "pygments_lexer": "ipython3",
   "version": "3.11.1"
  }
 },
 "nbformat": 4,
 "nbformat_minor": 5
}
